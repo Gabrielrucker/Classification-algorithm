{
 "cells": [
  {
   "cell_type": "markdown",
   "id": "dd1eba46",
   "metadata": {},
   "source": [
    "# Bibliotecas"
   ]
  },
  {
   "cell_type": "code",
   "execution_count": 1,
   "id": "537fb681",
   "metadata": {
    "scrolled": true
   },
   "outputs": [],
   "source": [
    "import random\n",
    "import re\n",
    "import nltk\n",
    "import unidecode\n",
    "import math\n",
    "import time\n",
    "import string\n",
    "import numpy as np\n",
    "import pandas as pd\n",
    "import seaborn as sns\n",
    "import dataframe_image as dfi\n",
    "import statsmodels.api as sm\n",
    "from wordcloud import WordCloud\n",
    "from numpy import mean\n",
    "from nltk import tokenize\n",
    "from string import punctuation\n",
    "from string import ascii_letters\n",
    "from nltk.stem import RSLPStemmer\n",
    "from sklearn import metrics\n",
    "from pandas_ods_reader import read_ods\n",
    "from pandas import read_csv\n",
    "from sklearn.preprocessing import StandardScaler\n",
    "from sklearn.decomposition import PCA\n",
    "from sklearn.decomposition import TruncatedSVD\n",
    "from sklearn.metrics.pairwise import cosine_similarity\n",
    "from sklearn.feature_extraction.text import TfidfVectorizer\n",
    "from sklearn.feature_selection import SelectKBest\n",
    "from sklearn.feature_selection import chi2\n",
    "from sklearn.metrics import confusion_matrix\n",
    "from sklearn.metrics import accuracy_score\n",
    "from sklearn.model_selection import train_test_split\n",
    "from sklearn.model_selection import cross_val_score\n",
    "from sklearn.model_selection import LeaveOneOut\n",
    "from sklearn.feature_extraction.text import TfidfTransformer\n",
    "from sklearn.naive_bayes import MultinomialNB\n",
    "from sklearn.linear_model import LogisticRegression\n",
    "from sklearn.ensemble import RandomForestClassifier\n",
    "from sklearn.svm import LinearSVC\n",
    "from sklearn.neighbors import KNeighborsClassifier\n",
    "from sklearn.neural_network import MLPClassifier\n",
    "from sklearn.metrics import roc_curve\n",
    "from sklearn.metrics import roc_auc_score\n",
    "from sklearn.metrics import auc\n",
    "from sklearn.multiclass import OneVsRestClassifier\n",
    "from sklearn.calibration import CalibratedClassifierCV\n",
    "from sklearn.feature_selection import SelectPercentile\n",
    "from pylab import plot, show, savefig, xlim, figure, ylim, legend, boxplot, setp, axes\n",
    "from matplotlib import pyplot as plt"
   ]
  },
  {
   "cell_type": "markdown",
   "id": "6c10e779",
   "metadata": {},
   "source": [
    "# Funções"
   ]
  },
  {
   "cell_type": "code",
   "execution_count": 2,
   "id": "eab6f200",
   "metadata": {},
   "outputs": [],
   "source": [
    "#Função para ler os dados e realizar algumas definições\n",
    "#Entrada: Nenhuma\n",
    "#Saída: Dataframe com os dados e os tipos atribuídos\n",
    "\n",
    "def leitura_e_configuracao():\n",
    "    df = read_csv(\"teste.csv\")\n",
    "\n",
    "    #Define os tipos de dados das colunas\n",
    "    df['Palavras-chave'] = df['Palavras-chave'].astype(str)\n",
    "    df['Título'] = df['Título'].astype(str)\n",
    "    df['Resumo'] = df['Resumo'].astype(str)\n",
    "    df['Categoria'] = df['Categoria'].astype(str)\n",
    "    df['ID'] = df['ID'].astype(int)\n",
    "    \n",
    "    # atribuição dos ids a cada uma das categorias\n",
    "    for abstract in df:\n",
    "        df.loc[df['Categoria'] == 'Ciências Agrárias', 'ID_Categoria'] = 0\n",
    "        df.loc[df['Categoria'] == 'Ciências Biológicas', 'ID_Categoria'] = 1\n",
    "        df.loc[df['Categoria'] == 'Ciências Exatas e da Terra', 'ID_Categoria'] = 2\n",
    "        df.loc[df['Categoria'] == 'Ciências Humanas', 'ID_Categoria'] = 3\n",
    "        df.loc[df['Categoria'] == 'Ciências Sociais Aplicadas', 'ID_Categoria'] = 4\n",
    "        df.loc[df['Categoria'] == 'Ciências da Saúde', 'ID_Categoria'] = 5\n",
    "        df.loc[df['Categoria'] == 'Engenharias', 'ID_Categoria'] = 6\n",
    "        df.loc[df['Categoria'] == 'Lingüística, Letras e Artes', 'ID_Categoria'] = 7\n",
    "        df.loc[df['Categoria'] == 'Multidisciplinar', 'ID_Categoria'] = 8\n",
    "        \n",
    "        \n",
    "    \n",
    "    df['ID_Categoria'] = df['ID_Categoria'].astype(int) #tipo de dado da nova coluna criada\n",
    "    df['Texto'] = df['Título'] + df['Resumo'] + df['Palavras-chave'] # Atributo texto é a união do título, resumo\n",
    "                                                                     # e palavras-chave\n",
    "    \n",
    "    return df # retorna o dataframe"
   ]
  },
  {
   "cell_type": "code",
   "execution_count": 3,
   "id": "8ab71a7d",
   "metadata": {},
   "outputs": [],
   "source": [
    "#Função para realizar o pré-processamento dos dados\n",
    "#Entrada: Dataframe com os dados e o atributo a ser pré-processado\n",
    "#Saída: Nenhuma\n",
    "\n",
    "def pre_processamento(df, atributo):\n",
    "    \n",
    "    #letras minúsculas\n",
    "    df[atributo] = [texto.lower() for texto in df[atributo]]\n",
    "\n",
    "    #remoção de acentos\n",
    "    df[atributo] = [unidecode.unidecode(texto) for texto in df[atributo]]\n",
    "\n",
    "    #remoção de stop words\n",
    "    stop_words = nltk.corpus.stopwords.words('portuguese')\n",
    "    stop_words.extend(['artigo','sobre', 'resultado','objetivo','estudo','brasil', 'trabalho', \n",
    "                      'delineamento', 'experimental','analise'])\n",
    "    lista_stopwords = []\n",
    "    for abstract in df[atributo]:\n",
    "        tokens = tokenize.WhitespaceTokenizer().tokenize(abstract)\n",
    "        novo_texto = ' '.join([token for token in tokens if token not in stop_words])\n",
    "        lista_stopwords.append(novo_texto)\n",
    "    df[atributo] = lista_stopwords\n",
    "\n",
    "    #remoção de pontuação\n",
    "    pontuacoes = list(punctuation)\n",
    "    pontuacao = []\n",
    "    for texto in df[atributo]:\n",
    "        tokens = tokenize.WhitespaceTokenizer().tokenize(texto)\n",
    "        novo_texto = ' '.join([token for token in tokens if token not in pontuacoes])\n",
    "        pontuacao.append(novo_texto)\n",
    "    df[atributo] = pontuacao\n",
    "\n",
    "    #Retira textos não desejados\n",
    "    df[atributo] = df[atributo].apply(lambda x: re.sub(r'[0-9]','',x))\n",
    "    df[atributo] = df[atributo].apply(lambda x: re.sub(r'[/(){}\\[\\]\\#\\|\\%\\@,;.:-]',' ',x))\n",
    "    df[atributo] = df[atributo].apply(lambda x: re.sub(r'\\d+', '', x))\n",
    "\n",
    "    #obtenção da raíz das palavras\n",
    "    stemmer = RSLPStemmer()\n",
    "    raizes = []\n",
    "    for texto in df[atributo]:\n",
    "        tokens = tokenize.WhitespaceTokenizer().tokenize(texto)\n",
    "        novo_texto = ' '.join([stemmer.stem(token) for token in tokens])\n",
    "        raizes.append(novo_texto)\n",
    "    df[atributo] = raizes"
   ]
  },
  {
   "cell_type": "code",
   "execution_count": 4,
   "id": "d4590c6b",
   "metadata": {},
   "outputs": [],
   "source": [
    "#Função para realizar a extração de características\n",
    "#Entrada: Dataframe e o atributo correspondente\n",
    "#Saída vetor de características e os rótulos das categorias\n",
    "\n",
    "#teste\n",
    "\n",
    "def extracao_caracteristicas(df, atributo):\n",
    "    tfidf = TfidfVectorizer(sublinear_tf=True, ngram_range=(1, 2), max_df=7) # aplicação do TF-IDF para\n",
    "                                                                                        # extração de características\n",
    "    vetor_caracteristicas = tfidf.fit_transform(df[atributo]) # obtenção do vetor de características\n",
    "    vetor_tfidf = vetor_caracteristicas.toarray()                  \n",
    "    rotulos = df.ID_Categoria\n",
    "    return vetor_caracteristicas, rotulos"
   ]
  },
  {
   "cell_type": "code",
   "execution_count": 5,
   "id": "b8acdc8a",
   "metadata": {},
   "outputs": [],
   "source": [
    "#Função para realizar a seleção de características\n",
    "#Entrada: vetor de características e os rótulos das categorias\n",
    "#Saída: vetor de características atualizado\n",
    "\n",
    "def selecao_caracteristicas(vetor_caracteristicas, rotulos):\n",
    "    chi2_test = SelectPercentile(percentile=20) #Qui-Quadrado usando para\n",
    "                                                                            #selecionar metade das amostras\n",
    "    vetor_chi2 = chi2_test.fit_transform(vetor_caracteristicas,rotulos) # obtenção do vetor chi2\n",
    "    vetor_caracteristicas = vetor_chi2 # obtenção do vetor de características\n",
    "    return vetor_caracteristicas"
   ]
  },
  {
   "cell_type": "code",
   "execution_count": 6,
   "id": "2b17acb9",
   "metadata": {},
   "outputs": [],
   "source": [
    "#Função para realizar a validação do modelo usando 10-fold cross validation\n",
    "#Entrada: Dataframe, classificador, vetor de características e os rótulos das categorias\n",
    "#Saída: Dataframe com o resultado dos 10 folds\n",
    "\n",
    "def validacao(df, modelo, vetor_caracteristicas, rotulos):\n",
    "    \n",
    "    vc_df = pd.DataFrame(index=range(10))\n",
    "    entradas = []\n",
    "    acuracias = cross_val_score(modelo, vetor_caracteristicas, rotulos, scoring='accuracy', cv=10)\n",
    "    for num_fold, acuracia in enumerate(acuracias):\n",
    "        entradas.append((num_fold, acuracia))\n",
    "    vc_df = pd.DataFrame(entradas, columns=['num_fold', 'acuracia'])\n",
    "    \n",
    "    return vc_df"
   ]
  },
  {
   "cell_type": "code",
   "execution_count": 7,
   "id": "caf33cdd",
   "metadata": {},
   "outputs": [],
   "source": [
    "#Função para avaliar as dimensões de qualidade segundo os métodos de contaminação utilizando 10-fold cross validation\n",
    "#e as condições experimentais de ruído\n",
    "#Entrada: dimensão de qualidade a ser avaliada, atributo alvo, algoritmo de classificação selecionado\n",
    "#Saída: lista contendo uma lista de 10 folds para cada condição experimental avaliada\n",
    "\n",
    "def avaliacao_DQ(dimensao, atributo, classificador):\n",
    "    ruidos = [0, 10, 20, 30, 40] # Grupo Controle, Grupo I, Grupo II, Grupo III, Grupo IV\n",
    "    folds = []\n",
    "    for ruido in ruidos:\n",
    "        df = leitura_e_configuracao() # leitura/configuração do dataframe\n",
    "        #contaminação\n",
    "        if(dimensao == 'Acurácia-add'):\n",
    "            contamina_acuracia(df, atributo, 'adicao', ruido)\n",
    "        elif(dimensao == 'Acurácia-rm'):\n",
    "            contamina_acuracia(df, atributo, 'remocao', ruido)\n",
    "        elif(dimensao == 'Acurácia-subs'):\n",
    "            contamina_acuracia(df, atributo, 'substituicao', ruido)\n",
    "        elif(dimensao == 'Completude'):\n",
    "            contamina_completude(df, atributo, ruido)\n",
    "        elif(dimensao == 'Consistência'):\n",
    "            contamina_consistencia(df, atributo, ruido)\n",
    "        pre_processamento(df, atributo) # pré-processamento após a contaminação\n",
    "        vetor_caracteristicas, rotulos = extracao_caracteristicas(df, atributo) #extração de características\n",
    "        vetor_caracteristicas = selecao_caracteristicas(vetor_caracteristicas, rotulos)#seleção de características\n",
    "        vc_df = validacao(df, classificador, vetor_caracteristicas, rotulos)#validação do modelo\n",
    "        folds.append(vc_df.acuracia.values) # adiciona os 10 folds do grupo ruído à lista de folds\n",
    "        \n",
    "    return folds"
   ]
  },
  {
   "cell_type": "code",
   "execution_count": 8,
   "id": "4f6daafc",
   "metadata": {},
   "outputs": [],
   "source": [
    "#Função para realizar a contaminação da dimensão de qualidade Acurácia\n",
    "#Entrada: dataframe, atributo escolhido, método(adição,remoção,substituição), porcentagem de ruído\n",
    "#Saída: dataframe modificado\n",
    "\n",
    "def contamina_acuracia(df, escolha_atributo, metodo, porc_ruido):\n",
    "    lista_artigos = []\n",
    "    \n",
    "    if (porc_ruido == 0): # retorna caso não haja contaminação\n",
    "        return\n",
    "    \n",
    "    qtd_artigos = int(df.shape[0] * (porc_ruido/100)) # quantidade de artigos que serão contaminados\n",
    "    atributo_contaminado = escolha_atributo \n",
    "    i = 0\n",
    "    \n",
    "    while i < qtd_artigos: # laço para contaminar os artigos\n",
    "        \n",
    "        lista_caracteres = []\n",
    "        lista_final = []\n",
    "        indice = random.choice(df.index) # artigo é selecionado de maneira aleatória\n",
    "        \n",
    "        if indice in lista_artigos: # verifica se o artigo já foi contaminado previamente\n",
    "            while indice in lista_artigos:\n",
    "                indice = random.choice(df.index)\n",
    "        \n",
    "        lista_caracteres = [carac for carac in df.loc[indice, atributo_contaminado]]\n",
    "        \n",
    "        for carac in lista_caracteres: # percorre os caracteres\n",
    "            \n",
    "            if (random.random() <= 0.1): # se o caracter for contaminado\n",
    "                \n",
    "                caracter = random.choice(ascii_letters) # obtém um caracter aleatório\n",
    "                \n",
    "                if(not caracter.isalpha()): # gera novo caracter enquanto este não for alfabético\n",
    "                    while(not caracter.isalpha()):\n",
    "                        caracter = random.choice(ascii_letters)\n",
    "                                \n",
    "                if(metodo == 'substituicao'): # método de substituição de caracteres\n",
    "                    lista_final.append(caracter) # adiciona o caracter aleatório no lugar do antigo na nova lista\n",
    "                elif(metodo == 'adicao'): # método de adição de caracteres\n",
    "                    lista_final.extend([carac, caracter]) # adiciona o caracter antigo junto com o aleatório\n",
    "                                                               # à nova lista\n",
    "                elif(metodo == 'remocao'): # remoção de caracteres\n",
    "                    pass # caso o caracter seja contaminado, ele não é adicionado à lista de caracteres\n",
    "            \n",
    "            else: # caracter não será contaminado\n",
    "                lista_final.append(carac)\n",
    "                \n",
    "        df.loc[indice, atributo_contaminado] = ''.join([carac for carac in lista_final]) # substitui o artigo pela\n",
    "                                                                                         # lista resultante\n",
    "        lista_artigos.append(indice) # adiciona o índice do artigo à lista de artigos contaminados\n",
    "        i+=1"
   ]
  },
  {
   "cell_type": "code",
   "execution_count": 9,
   "id": "7e2952cf",
   "metadata": {},
   "outputs": [],
   "source": [
    "#Função para realizar a contaminação da dimensão de qualidade Completude\n",
    "#Entrada: dataframe, atributo escolhido, porcentagem de ruído\n",
    "#Saída: dataframe modificado        \n",
    "\n",
    "def contamina_completude(df, escolha_atributo, porc_ruido):\n",
    "    lista_artigos = []\n",
    "    #lista_atributos = ['Título', 'Resumo', 'Palavras-chave']\n",
    "    if(porc_ruido == 0):\n",
    "        return\n",
    "    qtd_artigos = int(df.shape[0] * (porc_ruido/100))\n",
    "    i = 0\n",
    "    atributo_contaminado = escolha_atributo\n",
    "    while i < qtd_artigos:\n",
    "        indice = random.choice(df.index) # sorteia um artigo aleatório\n",
    "        if indice in lista_artigos: # se o artigo já foi contaminado\n",
    "            while indice in lista_artigos: # procura por um novo artigo enquanto estiver na lista dos que já foram contaminados\n",
    "                indice = random.choice(df.index)\n",
    "        df[atributo_contaminado] = df[atributo_contaminado].replace([df[atributo_contaminado][indice]], '') # apaga o atributo\n",
    "        lista_artigos.append(indice) # adiciona o artigo contaminado à lista de artigos que já foram contaminados\n",
    "        i += 1"
   ]
  },
  {
   "cell_type": "code",
   "execution_count": 10,
   "id": "79722859",
   "metadata": {},
   "outputs": [],
   "source": [
    "#Função para realizar a contaminação da dimensão de qualidade Consistência\n",
    "#Entrada: dataframe, atributo escolhido, porcentagem de ruído\n",
    "#Saída: dataframe modificado         \n",
    "        \n",
    "def contamina_consistencia(df, escolha_atributo1, porc_ruido):\n",
    "    lista_artigos = []\n",
    "    lista_atributos = ['Título', 'Resumo', 'Palavras-chave']\n",
    "    if(porc_ruido == 0):\n",
    "        return\n",
    "    porc_ruido /= 2\n",
    "    qtd_artigos = int(df.shape[0] * (porc_ruido/100)) # número de artigos a serem contaminados\n",
    "    i = 0\n",
    "    atributo_contaminado1 = escolha_atributo1\n",
    "    atributo_contaminado2 = random.choice(lista_atributos)\n",
    "    while i < qtd_artigos:\n",
    "        indice1 = random.choice(df.index)\n",
    "        indice2 = random.choice(df.index)\n",
    "        if(df['ID_Categoria'][indice1] == df['ID_Categoria'][indice2]):\n",
    "                while(df['ID_Categoria'][indice1] == df['ID_Categoria'][indice2]):\n",
    "                        indice1 = random.choice(df.index)\n",
    "        \n",
    "        else:\n",
    "            temp = df[atributo_contaminado1][indice1]\n",
    "            if(atributo_contaminado2 == atributo_contaminado1):\n",
    "                while(atributo_contaminado2 == atributo_contaminado1):\n",
    "                    atributo_contaminado2 = random.choice(lista_atributos)\n",
    "            df[atributo_contaminado1] = df[atributo_contaminado1].replace([df[atributo_contaminado1][indice1]], [df[atributo_contaminado2][indice2]])\n",
    "            df[atributo_contaminado2] = df[atributo_contaminado2].replace([df[atributo_contaminado2][indice2]], temp)\n",
    "            i+=1"
   ]
  },
  {
   "cell_type": "code",
   "execution_count": 11,
   "id": "c98c1d1d",
   "metadata": {},
   "outputs": [],
   "source": [
    "#Função para obter a melhor divisão do conjunto de treinamento/teste e exibir graficamente\n",
    "#Entrada: classificador\n",
    "#Saída: indicação gráfica da melhor porcentagem de amostras usadas para o treinamento do modelo de classificação\n",
    "            \n",
    "def melhor_divisao(modelo):\n",
    "    lista_acuracias = []\n",
    "    lista_porc = []\n",
    "    i = 0.01 # Começa em 1%\n",
    "    while i < 1: # Enquanto não chegar a 100%\n",
    "        X_train, X_test, y_train, y_test = train_test_split(vetor_caracteristicas, rotulos, train_size=i, stratify=rotulos, random_state=0)\n",
    "        modelo.fit(X_train, y_train) # faz o treinamento usando a porcentagem i como conjunto de treino\n",
    "        y_pred = modelo.predict(X_test)\n",
    "        lista_acuracias.append(accuracy_score(y_test, y_pred)*100)\n",
    "        lista_porc.append(i*100)\n",
    "        i += 0.01\n",
    "    \n",
    "    #configuração do gráfico a ser exibido\n",
    "    fig, ax = plt.subplots()\n",
    "    ax.plot(lista_porc, lista_acuracias, 'black')\n",
    "    plt.xlabel('Conjunto de Treino (%)')\n",
    "    plt.ylabel('Acurácia (%)')\n",
    "    indice = lista_acuracias.index(max(lista_acuracias))\n",
    "    plt.scatter(lista_porc[indice], max(lista_acuracias), c='red', linewidths=2)\n",
    "    plt.axhline(y=max(lista_acuracias), xmax=lista_porc[indice]/105, linestyle='--', color=\"red\")\n",
    "    plt.axvline(x=lista_porc[indice], ymax=max(lista_acuracias)/(max(lista_acuracias)+5), linestyle='--', color=\"red\")\n",
    "    plt.text(lista_porc[indice]+2, max(lista_acuracias)+0.5, '({:.1f}, {:.1f})'.format(lista_porc[indice], max(lista_acuracias)))\n",
    "    plt.margins(0.1)\n",
    "    ax.spines['right'].set_visible(False)\n",
    "    ax.spines['top'].set_visible(False)\n",
    "    ax.set_ylim(25,100)\n",
    "    plt.show()"
   ]
  },
  {
   "cell_type": "code",
   "execution_count": 12,
   "id": "62119a46",
   "metadata": {},
   "outputs": [],
   "source": [
    "#Função para gerar as curvas ROC e disponibilizá-las em formato gráfico\n",
    "#Entrada: classificador e melhor divisão do conjunto de treino\n",
    "#Saída: representação gráfica das curvas ROC para o modelo escolhido\n",
    "    \n",
    "def gera_curvas_roc(modelo, cjto_treino):\n",
    "\n",
    "    #treinamento do modelo utilizando o melhor split possível\n",
    "    X_train, X_test, y_train, y_test = train_test_split(vetor_caracteristicas, rotulos, train_size=(cjto_treino/100), stratify=rotulos, random_state=0)\n",
    "    modelo = OneVsRestClassifier(modelo)\n",
    "    try:\n",
    "        pred_prob = modelo.fit(X_train, y_train).decision_function(X_test)   \n",
    "    except AttributeError:\n",
    "        pred_prob = modelo.predict_proba(X_test)\n",
    "        \n",
    "    y_pred = modelo.predict(X_test)\n",
    "    #pred_prob =  #obtenção das probabilidades que serão utilizadas para construir as\n",
    "                                             #curvas ROC\n",
    "    \n",
    "    FPR = {} #dicionário contendo os pares chave-valor dos falsos positivos (1-Especificidade)\n",
    "    TPR = {} #dicionárito contendo os pares chave-valor dos verdadeiros positivos (Sensibilidade)\n",
    "    limite = {}\n",
    "    AUC = {}\n",
    "\n",
    "    num_classes = 9\n",
    "    \n",
    "    \n",
    "    for i in range(num_classes):\n",
    "        FPR[i], TPR[i], limite[i] = roc_curve(y_test, pred_prob[:, i], pos_label=i) #obtenção das curvas ROC\n",
    "                                                                                    #para as nove classes\n",
    "            \n",
    "        \n",
    "        AUC[i] = auc(FPR[i], TPR[i])\n",
    "            \n",
    "    \n",
    "    # plotando a área sob a curva e configurando exbição do gráfico\n",
    "    fig, ax = plt.subplots()\n",
    "    plt.plot(FPR[0], TPR[0], color='#e41a1c', linestyle='-', label='CA vs Outras', linewidth=5)\n",
    "    plt.plot(FPR[1], TPR[1], color='#377eb8', linestyle='-', label='CB vs Outras',linewidth=5)\n",
    "    plt.plot(FPR[2], TPR[2], color='#4daf4a', linestyle='-', label='CET vs Outras', linewidth=5)\n",
    "    plt.plot(FPR[3], TPR[3], color='#984ea3', linestyle='-', label='CH vs Outras', linewidth=5)\n",
    "    plt.plot(FPR[4], TPR[4], color='#ff7f00', linestyle='-', label='CSA vs Outras', linewidth=5)\n",
    "    plt.plot(FPR[5], TPR[5], color='#ffff33', linestyle='-', label='CS vs Outras', linewidth=5)\n",
    "    plt.plot(FPR[6], TPR[6], color='#a65628', linestyle='-', label='E vs Outras', linewidth=5)\n",
    "    plt.plot(FPR[7], TPR[7], color='#f781bf', linestyle='-', label='LLA vs Outras', linewidth=5)\n",
    "    plt.plot(FPR[8], TPR[8], color='#999999', linestyle='-', label='M vs Outras', linewidth=5)\n",
    "    plt.xlabel('1 - Especificidade', weight='book')\n",
    "    plt.ylabel('Sensibilidade', weight='book')\n",
    "    ax.xaxis.set_tick_params(width=2)\n",
    "    ax.yaxis.set_tick_params(width=2)\n",
    "    leg = plt.legend(bbox_to_anchor=(1, 0.1), loc='lower right', borderaxespad=0., fontsize=34, shadow=False,\n",
    "                     fancybox=False, ncol=2)\n",
    "    leg.get_frame().set_linewidth(3)\n",
    "    for i in range(num_classes):\n",
    "        leg.get_lines()[i].set_linewidth(5)\n",
    "    ax.spines['right'].set_visible(False)\n",
    "    ax.spines['top'].set_visible(False)\n",
    "    plt.setp(ax.spines.values(), linewidth=2)\n",
    "    fig.set_size_inches(20, 10)\n",
    "    \n",
    "    \n",
    "    plt.show()\n",
    "    \n",
    "    return AUC"
   ]
  },
  {
   "cell_type": "code",
   "execution_count": 13,
   "id": "2f3ad2de",
   "metadata": {},
   "outputs": [],
   "source": [
    "#Função para criar o box-plot contendo os dados dos 10 folds obtidos por meio do 10-fold cross validation para cada\n",
    "#um dos algoritmos\n",
    "#Entrada: valores do eixo x, valores do eixo y e fonte dos dados\n",
    "#Saída: Representação gráfica do box-plot\n",
    "    \n",
    "def cria_box_plot(eixo_x, eixo_y):\n",
    "\n",
    "    #configuração do gráfico\n",
    "    fig, ax = plt.subplots()\n",
    "    flierprops = dict(marker='*', markerfacecolor='black', markersize=8,\n",
    "                  markeredgecolor='none')\n",
    "    medianprops = dict(linestyle='-', linewidth=1)\n",
    "    boxprops = dict(linestyle='-', linewidth=1)\n",
    "    whiskerprops = dict(linewidth=1)\n",
    "    ax.spines['right'].set_visible(False)\n",
    "    ax.spines['top'].set_visible(False)\n",
    "    ax.spines['left'].set_linewidth(1)\n",
    "    ax.spines['bottom'].set_linewidth(1)\n",
    "    ax.set_ylim(25,75)\n",
    "    #cores = {\n",
    "    #    'SVM':'blue',\n",
    "    #    'NB':'orange',\n",
    "    #    'LR': 'green'}\n",
    "    \n",
    "    #modelos a serem validados\n",
    "    modelos = [\n",
    "    LinearSVC(random_state=0),\n",
    "    MultinomialNB(),\n",
    "    LogisticRegression(random_state=0, solver='liblinear')\n",
    "]\n",
    "    \n",
    "    vc_df = pd.DataFrame(index=range(10 * len(modelos))) #dataframe para os folds da validação cruzada\n",
    "\n",
    "    entradas = []\n",
    "    \n",
    "    #10-fold cross validation\n",
    "    for modelo in modelos:\n",
    "        nome_modelo = modelo.__class__.__name__\n",
    "        if(nome_modelo == \"LinearSVC\"):\n",
    "            nome_modelo = \"SVM\"\n",
    "        elif(nome_modelo == \"MultinomialNB\"):\n",
    "            nome_modelo = \"NB\"\n",
    "        elif(nome_modelo == \"LogisticRegression\"):\n",
    "            nome_modelo = \"LR\"\n",
    "        acuracias = cross_val_score(modelo, vetor_caracteristicas, rotulos, scoring='accuracy', cv=10)\n",
    "        for num_fold, acuracia in enumerate(acuracias):\n",
    "            entradas.append((nome_modelo, num_fold, acuracia))\n",
    "    \n",
    "    #Adequação do dataframe\n",
    "    vc_df = pd.DataFrame(entradas, columns=['Classificador', 'Num_Fold', 'Acurácia (%)'])\n",
    "    vc_df['Acurácia (%)'] = [acuracia * 100 for acuracia in vc_df['Acurácia (%)']]\n",
    "\n",
    "    #Construção do boxplot\n",
    "    ax = sns.boxplot(x=eixo_x, y=eixo_y, palette=None, data=vc_df, orient='v', width=0.3,\n",
    "           saturation=1, linewidth=1, showcaps=False, flierprops=flierprops, medianprops=medianprops,\n",
    "               boxprops=boxprops, whiskerprops=whiskerprops, color=None)\n",
    "    \n",
    "    # caixas preto e branco\n",
    "    for i,box in enumerate(ax.artists):\n",
    "        box.set_edgecolor('black')\n",
    "        box.set_facecolor('white')\n",
    "    \n",
    "    plt.show()\n",
    "    \n",
    "    return vc_df"
   ]
  },
  {
   "cell_type": "code",
   "execution_count": 14,
   "id": "bbee0157",
   "metadata": {},
   "outputs": [],
   "source": [
    "#Função para realizar a leitura e configuração dos resultados dos folds\n",
    "    \n",
    "def leitura_e_configuracao_resultados():\n",
    "\n",
    "    df_resultados = read_ods(\"resultadosFolds.ods\",1)\n",
    "\n",
    "    #Define os tipos de dados das colunas\n",
    "    df_resultados['Classificador'] = df_resultados['Classificador'].astype(str)\n",
    "    df_resultados['Método'] = df_resultados['Método'].astype(str)\n",
    "    df_resultados['Atributo'] = df_resultados['Atributo'].astype(str)\n",
    "    df_resultados['Fold'] = df_resultados['Fold'].astype(int)\n",
    "    df_resultados['Grupo'] = df_resultados['Grupo'].astype(str)\n",
    "    df_resultados['Acurácia'] = df_resultados['Acurácia'].astype(float)\n",
    "    \n",
    "    return df_resultados"
   ]
  },
  {
   "cell_type": "code",
   "execution_count": 15,
   "id": "a5696360",
   "metadata": {},
   "outputs": [],
   "source": [
    "#Função para definir cores do Box-plot    \n",
    "\n",
    "def setCorBoxPlot(bp, cor):\n",
    "    for item in ['whiskers', 'fliers', 'medians', 'caps']:\n",
    "        plt.setp(bp[item], color='black')\n",
    "    plt.setp(bp[\"boxes\"], facecolor=cor)"
   ]
  },
  {
   "cell_type": "code",
   "execution_count": 16,
   "id": "49a4121b",
   "metadata": {},
   "outputs": [],
   "source": [
    "#Função para criar os box-plots para os algoritmos sob as condições experimentais de ruído e um método de contaminação\n",
    "#Entrada: dataframe, atributo contaminado, método de contaminação, eixo do gráfico construído\n",
    "#Saída: gráfico com quatro quadrantes, onde cada um contém os box-plots dos classificadores\n",
    "#e representam o atributo contaminado segundo as condições experimentais de ruído\n",
    "\n",
    "def cria_box_plots(df, atributo, metodo, ax):\n",
    "    \n",
    "    #configurações do box-plot\n",
    "    flierprops = dict(marker='*', markerfacecolor='black', markersize=8,\n",
    "                  markeredgecolor='none')\n",
    "    medianprops = dict(linestyle='-', linewidth=1)\n",
    "    boxprops = dict(linestyle='-', linewidth=1)\n",
    "    whiskerprops = dict(linewidth=1)\n",
    "    \n",
    "    classificadores = ['MVS','NBM','RL'] #classificadores\n",
    "    posicoes = [[1,2,3,4,5],[8,9,10,11,12],[15,16,17,18,19]] #posições dos box-plots\n",
    "    grupos_ruido = ['C','I','II','III','IV'] #condições experimentais\n",
    "    \n",
    "    for i in range(len(classificadores)): # para cada classificador\n",
    "        \n",
    "        lista_ruidos = []\n",
    "        for j in range(len(grupos_ruido)):\n",
    "            #filtra o dataframe com as colunas desejadas\n",
    "            df_ruido = pd.DataFrame(df[(df['Grupo'] == grupos_ruido[j]) \n",
    "                                                          & (df['Classificador'] == classificadores[i])\n",
    "                                                          & (df['Atributo'] == atributo) \n",
    "                                                          & (df['Método'] == metodo)])\n",
    "            lista_ruidos.append(df_ruido['Acurácia']) #inclui apenas os valores de acurácia na lista\n",
    "        \n",
    "        bp = ax.boxplot(lista_ruidos, positions=posicoes[i], patch_artist=True, flierprops=flierprops,\n",
    "                    medianprops=medianprops, boxprops=boxprops, showcaps=False, labels=grupos_ruido, widths=0.55,\n",
    "                       whiskerprops=whiskerprops) #constroi o box-plot do classificador\n",
    "        #define as cores\n",
    "        if i == 0:\n",
    "            setCorBoxPlot(bp,'blue')\n",
    "        elif i == 1:\n",
    "            setCorBoxPlot(bp,'orange')\n",
    "        elif i == 2:\n",
    "            setCorBoxPlot(bp,'green')\n",
    "\n",
    "    #configurações dos eixos\n",
    "    ax.set_yticks([30,40,50,60,70])\n",
    "    ax.set_xlim(0,20)\n",
    "    ax.set_ylim(25,75)\n",
    "    ax.set_ylabel('Acurácia (%)', labelpad=20, fontdict=dict({'weight':'book'}))\n",
    "    \n",
    "    ax.spines['right'].set_visible(False)\n",
    "    ax.spines['top'].set_visible(False)\n",
    "    ax.spines['left'].set_linewidth(1)\n",
    "    ax.spines['bottom'].set_linewidth(1)\n",
    "    \n",
    "    #adição do rótulo correspondente ao classificador utilizado no eixo x\n",
    "    secax = ax.secondary_xaxis(-0.1)\n",
    "    secax.xlim = (0,20)\n",
    "    secax.spines['bottom'].set_visible(False)\n",
    "    secax.set_xticks([3,10,17])\n",
    "    secax.set_xticklabels(classificadores)\n",
    "    secax.tick_params(axis='x', length=0)\n",
    "    \n",
    "    #adição do titulo ao subplot indicando o atributo correspondente\n",
    "    #ax.set_title('{}'.format(atributo), y=1.1, pad=-10, loc='center', position=(0.5, 0.5))\n"
   ]
  },
  {
   "cell_type": "code",
   "execution_count": 17,
   "id": "d65a110c",
   "metadata": {},
   "outputs": [],
   "source": [
    "#Função para criar o grid e os 4 quadrantes onde serão colocados os box-plots\n",
    "#Saída: os axis representando cada um dos quadrantes\n",
    "\n",
    "def set_grid(metodo):\n",
    "    fig = plt.figure(figsize=(20,10)) #criação da figura\n",
    "    plt.ylabel(\"Acurácia (%)\", labelpad=80) #título eixo y\n",
    "    #omissão dos ticks dos eixos para não sobressair\n",
    "    plt.yticks([])\n",
    "    plt.xticks([])\n",
    "    gs = fig.add_gridspec(2, 2, hspace=0, wspace=0) #especificações do grid\n",
    "    (ax1, ax2), (ax3, ax4) = gs.subplots(sharex='col', sharey='row') #compartilhamento das linhas e colunas\n",
    "    \n",
    "    return ax1,ax2,ax3,ax4\n"
   ]
  },
  {
   "cell_type": "code",
   "execution_count": 18,
   "id": "1d923dda",
   "metadata": {},
   "outputs": [],
   "source": [
    "def similaridade_cossenos(vet):\n",
    "    return vet.dot(vet.T)\n",
    "    \n",
    "    "
   ]
  },
  {
   "cell_type": "markdown",
   "id": "8a9f0413",
   "metadata": {},
   "source": [
    "# Pré-processamento/Extração/Seleção"
   ]
  },
  {
   "cell_type": "code",
   "execution_count": 19,
   "id": "01578487",
   "metadata": {
    "scrolled": true
   },
   "outputs": [],
   "source": [
    "#teste\n",
    "df = leitura_e_configuracao()"
   ]
  },
  {
   "cell_type": "code",
   "execution_count": 20,
   "id": "b8b0047b",
   "metadata": {},
   "outputs": [],
   "source": [
    "df = df.drop_duplicates(subset=['Título'])\n",
    "df = df.drop_duplicates(subset=['Resumo'])\n",
    "df = df.drop_duplicates(subset=['Palavras-chave'])"
   ]
  },
  {
   "cell_type": "code",
   "execution_count": 21,
   "id": "afe21979",
   "metadata": {
    "scrolled": true
   },
   "outputs": [],
   "source": [
    "pre_processamento(df, 'Texto')"
   ]
  },
  {
   "cell_type": "code",
   "execution_count": 22,
   "id": "e47ade33",
   "metadata": {
    "scrolled": true
   },
   "outputs": [],
   "source": [
    "vetor_caracteristicas, rotulos = extracao_caracteristicas(df, 'Texto')"
   ]
  },
  {
   "cell_type": "code",
   "execution_count": 23,
   "id": "76572a06",
   "metadata": {
    "scrolled": true
   },
   "outputs": [],
   "source": [
    "vetor_caracteristicas = selecao_caracteristicas(vetor_caracteristicas, rotulos)"
   ]
  },
  {
   "cell_type": "code",
   "execution_count": null,
   "id": "ba404606",
   "metadata": {},
   "outputs": [],
   "source": [
    "df = df.drop(columns=['ID_Categoria', 'Texto'])"
   ]
  },
  {
   "cell_type": "code",
   "execution_count": null,
   "id": "153f09d6",
   "metadata": {},
   "outputs": [],
   "source": [
    "df.to_csv('teste.csv', index=False)"
   ]
  },
  {
   "cell_type": "code",
   "execution_count": null,
   "id": "08d9ed83",
   "metadata": {},
   "outputs": [],
   "source": [
    "vetor_caracteristicas.shape"
   ]
  },
  {
   "cell_type": "markdown",
   "id": "97a8c5d8",
   "metadata": {},
   "source": [
    "# Testes"
   ]
  },
  {
   "cell_type": "markdown",
   "id": "210d1379",
   "metadata": {},
   "source": [
    "## Testes-Contaminação"
   ]
  },
  {
   "cell_type": "code",
   "execution_count": null,
   "id": "93968536",
   "metadata": {},
   "outputs": [],
   "source": [
    "%%time\n",
    "atributo = 'Texto'\n",
    "metodo = 'Acurácia-add'\n",
    "modelo = modelo = LogisticRegression(random_state=0, solver='liblinear')\n",
    "\n",
    "lista_folds = []\n",
    "i=0\n",
    "arquivo = open(\"resultados/rl/acc/{}-{}-ACC.txt\".format(atributo, metodo),\"w\")\n",
    "arquivo_folds = open(\"resultados/rl/folds/{}-{}-FOLDS.txt\".format(atributo, metodo),\"w\")\n",
    "for i in range(10):\n",
    "    folds = avaliacao_DQ(metodo, atributo, modelo)\n",
    "    lista_folds.append(folds)\n",
    "lista_media_folds = [sum(val)/10 for val in zip(*lista_folds)]\n",
    "for media_fold in lista_media_folds:\n",
    "    arquivo.write(\"{}\\n\".format((sum(media_fold)/len(media_fold))*100))\n",
    "    for fold in media_fold:\n",
    "        arquivo_folds.write(\"{}\\n\".format(fold*100))\n",
    "print(\"{}: {} ✔\\n\".format(atributo, metodo))\n",
    "arquivo.close()\n",
    "arquivo_folds.close()"
   ]
  },
  {
   "cell_type": "markdown",
   "id": "be99a8d1",
   "metadata": {},
   "source": [
    "## Outros Testes"
   ]
  },
  {
   "cell_type": "code",
   "execution_count": null,
   "id": "c2c2a6dd",
   "metadata": {},
   "outputs": [],
   "source": [
    "df_teste = leitura_e_configuracao()"
   ]
  },
  {
   "cell_type": "code",
   "execution_count": null,
   "id": "1a1c7f76",
   "metadata": {},
   "outputs": [],
   "source": [
    "artigo = df_teste.sample(n=1)"
   ]
  },
  {
   "cell_type": "code",
   "execution_count": null,
   "id": "b977d9c2",
   "metadata": {},
   "outputs": [],
   "source": [
    "artigo['Palavras-chave'].values"
   ]
  },
  {
   "cell_type": "code",
   "execution_count": null,
   "id": "4bb75f12",
   "metadata": {},
   "outputs": [],
   "source": [
    "contamina_acuracia(artigo, 'Palavras-chave', 'remocao', 100)"
   ]
  },
  {
   "cell_type": "code",
   "execution_count": null,
   "id": "f36fdac0",
   "metadata": {},
   "outputs": [],
   "source": [
    "artigo['Palavras-chave'].values"
   ]
  },
  {
   "cell_type": "code",
   "execution_count": null,
   "id": "0e3f88b4",
   "metadata": {},
   "outputs": [],
   "source": [
    "\n",
    "wordcloud = WordCloud(collocations = False, background_color = 'white').generate(''.join(df['Texto']))"
   ]
  },
  {
   "cell_type": "code",
   "execution_count": null,
   "id": "d1be117b",
   "metadata": {
    "scrolled": false
   },
   "outputs": [],
   "source": [
    "plt.imshow(wordcloud, interpolation='bilinear')\n",
    "plt.axis(\"off\")\n",
    "plt.show()"
   ]
  },
  {
   "cell_type": "code",
   "execution_count": null,
   "id": "e85f568f",
   "metadata": {},
   "outputs": [],
   "source": []
  },
  {
   "cell_type": "code",
   "execution_count": null,
   "id": "14464d9c",
   "metadata": {
    "scrolled": true
   },
   "outputs": [],
   "source": [
    "fd = nltk.FreqDist(df['TextoTokenizado'][1])\n",
    "\n",
    "for palavra in list(fd.keys())[:10]:\n",
    "    print(palavra, fd[palavra])"
   ]
  },
  {
   "cell_type": "code",
   "execution_count": null,
   "id": "e2921943",
   "metadata": {},
   "outputs": [],
   "source": [
    "string = ' '.join(df['Texto'])\n",
    "\n",
    "tokens = tokenize.WhitespaceTokenizer().tokenize(string)"
   ]
  },
  {
   "cell_type": "code",
   "execution_count": null,
   "id": "e44ec77a",
   "metadata": {},
   "outputs": [],
   "source": [
    "fd = nltk.FreqDist(tokens)\n",
    "\n",
    "df_view = sorted(((v,k) for k,v in fd.items()), reverse=True)\n",
    "\n",
    "for v,k in df_view:\n",
    "    print (v, k)\n",
    "\n",
    "#for palavra in list(fd.keys())[:10]:\n",
    "#    print(palavra, fd[palavra])"
   ]
  },
  {
   "cell_type": "code",
   "execution_count": null,
   "id": "5e1b57f9",
   "metadata": {},
   "outputs": [],
   "source": [
    "wordcloud = WordCloud(collocations = False, background_color = 'white').generate(string)\n",
    "\n",
    "plt.imshow(wordcloud, interpolation='bilinear')\n",
    "plt.axis(\"off\")\n",
    "plt.show()"
   ]
  },
  {
   "cell_type": "markdown",
   "id": "91295468",
   "metadata": {},
   "source": [
    "# Análise dos dados"
   ]
  },
  {
   "cell_type": "code",
   "execution_count": null,
   "id": "8b5bf801",
   "metadata": {
    "scrolled": false
   },
   "outputs": [],
   "source": [
    "freq = df['Categoria'].value_counts()\n",
    "freq"
   ]
  },
  {
   "cell_type": "code",
   "execution_count": null,
   "id": "803bcb51",
   "metadata": {},
   "outputs": [],
   "source": [
    "texto = df['Texto'][0]\n",
    "texto"
   ]
  },
  {
   "cell_type": "code",
   "execution_count": null,
   "id": "9fa924db",
   "metadata": {
    "scrolled": false
   },
   "outputs": [],
   "source": [
    "areas = ['Ciências Agrárias', 'Ciências Biológicas', 'Ciências Exatas e da Terra', 'Ciências Humanas',\n",
    "        'Ciências Sociais Aplicadas', 'Ciências da Saúde', 'Engenharias', 'Lingüística, Letras e Artes', \n",
    "         'Multidisciplinar']\n",
    "\n",
    "media_palavras_por_area = []\n",
    "media_caracteres_por_area = []\n",
    "\n",
    "for area in areas:\n",
    "    \n",
    "    n_palavras = []\n",
    "    n_caracteres = []\n",
    "    df_area = pd.DataFrame(data = df.loc[df['Categoria'] == area])\n",
    "    for texto in df_area['Texto']:   \n",
    "        n_palavras.append(len(texto.split()))\n",
    "        n_caracteres = len(''.join(texto.split()))\n",
    "    \n",
    "    media_caracteres_por_area.append(mean(n_caracteres))\n",
    "    media_palavras_por_area.append(mean(n_palavras))\n",
    "    \n",
    "media_palavras_por_area = [round(area,0) for area in media_palavras_por_area]\n",
    "\n",
    "print(\"Média de palavras por área do conhecimento:\\n\")\n",
    "for i in range(len(areas)):\n",
    "    print(f\"{areas[i]}: {media_palavras_por_area[i]}\")\n",
    "    \n",
    "print(f\"\\nMédia de caracteres por área do conhecimento:\\n\")\n",
    "for i in range(len(areas)):\n",
    "    print(f\"{areas[i]}: {media_caracteres_por_area[i]}\")"
   ]
  },
  {
   "cell_type": "code",
   "execution_count": null,
   "id": "3e717256",
   "metadata": {},
   "outputs": [],
   "source": [
    "print(mean(media_palavras_por_area))\n",
    "print(mean(media_caracteres_por_area))"
   ]
  },
  {
   "cell_type": "code",
   "execution_count": null,
   "id": "3a642087",
   "metadata": {
    "scrolled": true
   },
   "outputs": [],
   "source": [
    "from pandas import option_context\n",
    "\n",
    "with option_context('display.max_colwidth', 20):\n",
    "    display(df.sample(3))"
   ]
  },
  {
   "cell_type": "code",
   "execution_count": null,
   "id": "e7e6034d",
   "metadata": {},
   "outputs": [],
   "source": [
    "dfi.export(df.sample(5),'imagem_bdc')"
   ]
  },
  {
   "cell_type": "markdown",
   "id": "8f32858c",
   "metadata": {},
   "source": [
    "## Visualização das classes"
   ]
  },
  {
   "cell_type": "code",
   "execution_count": null,
   "id": "1d796b94",
   "metadata": {},
   "outputs": [],
   "source": [
    "df['Categoria'].value_counts()\n",
    "    "
   ]
  },
  {
   "cell_type": "code",
   "execution_count": null,
   "id": "2e507486",
   "metadata": {},
   "outputs": [],
   "source": [
    "\n",
    "\n",
    "\n",
    "cores = ['#e41a1c', '#377eb8', '#4daf4a', '#984ea3', '#ff7f00', '#ffff33', '#a65628', '#f781bf', '#999999']\n",
    "\n",
    "fig, ax = plt.subplots(figsize=(10,10))\n",
    "\n",
    "ax.pie(tamanhos, labels=df['Categoria'].unique(), shadow=True, colors=cores, startangle=90, autopct='%1.2f%%')\n",
    "ax.axis('equal')\n",
    "\n",
    "plt.rcParams['font.family'] = 'serif'\n",
    "plt.rcParams['font.serif'] = 'Times New Roman'\n",
    "plt.rcParams['font.size'] = 32\n",
    "plt.show()"
   ]
  },
  {
   "cell_type": "markdown",
   "id": "820d9d38",
   "metadata": {},
   "source": [
    "# Validação"
   ]
  },
  {
   "cell_type": "markdown",
   "id": "b6d411be",
   "metadata": {},
   "source": [
    "## Validação cruzada"
   ]
  },
  {
   "cell_type": "code",
   "execution_count": null,
   "id": "b0774fc6",
   "metadata": {
    "scrolled": false
   },
   "outputs": [],
   "source": [
    "vc_df = cria_box_plot('Classificador', 'Acurácia (%)')"
   ]
  },
  {
   "cell_type": "code",
   "execution_count": null,
   "id": "81b31516",
   "metadata": {},
   "outputs": [],
   "source": [
    "vc_df"
   ]
  },
  {
   "cell_type": "code",
   "execution_count": null,
   "id": "56dc57f4",
   "metadata": {
    "scrolled": true
   },
   "outputs": [],
   "source": [
    "vc_df['Acurácia'] = vc_df['Acurácia (%)']\n",
    "acuracias = vc_df.groupby('Classificador').Acurácia.mean()\n",
    "acuracias.sort_values(ascending=False)"
   ]
  },
  {
   "cell_type": "code",
   "execution_count": null,
   "id": "999a4c86",
   "metadata": {
    "scrolled": false
   },
   "outputs": [],
   "source": [
    "acuracias_desvios = vc_df.groupby('Classificador').Acurácia.std()\n",
    "acuracias_desvios.sort_values(ascending=False)"
   ]
  },
  {
   "cell_type": "code",
   "execution_count": null,
   "id": "5a1e1a88",
   "metadata": {},
   "outputs": [],
   "source": [
    "from sklearn.model_selection import StratifiedKFold\n",
    "from sklearn.model_selection import RepeatedKFold\n",
    "from sklearn.model_selection import RepeatedStratifiedKFold\n",
    "\n",
    "cv = StratifiedKFold(n_splits=10, shuffle=True, random_state=0)\n",
    "cv2 = RepeatedKFold(n_splits=5, n_repeats=10, random_state=0)\n",
    "cv3 = RepeatedStratifiedKFold(n_splits=10, random_state=0)"
   ]
  },
  {
   "cell_type": "code",
   "execution_count": null,
   "id": "3974bc09",
   "metadata": {
    "scrolled": true
   },
   "outputs": [],
   "source": [
    "%%time\n",
    "modelo = MultinomialNB()\n",
    "acuracias = cross_val_score(modelo, vetor_caracteristicas, rotulos, scoring='accuracy', cv=cv)\n",
    "print(mean(acuracias)*100)"
   ]
  },
  {
   "cell_type": "code",
   "execution_count": null,
   "id": "e657cbbb",
   "metadata": {
    "scrolled": false
   },
   "outputs": [],
   "source": [
    "print(acuracias*100)"
   ]
  },
  {
   "cell_type": "code",
   "execution_count": null,
   "id": "7c7545e9",
   "metadata": {},
   "outputs": [],
   "source": [
    "acuracias.std()"
   ]
  },
  {
   "cell_type": "markdown",
   "id": "2261a4db",
   "metadata": {},
   "source": [
    "## Leave-one-out"
   ]
  },
  {
   "cell_type": "code",
   "execution_count": null,
   "id": "646810cd",
   "metadata": {},
   "outputs": [],
   "source": [
    "%%time\n",
    "loo = LeaveOneOut()\n",
    "LinearSVC(random_state=0, multi_class='ovr')\n",
    "acuracia = cross_val_score(modelo, vetor_caracteristicas, rotulos, scoring='accuracy', cv=loo)\n",
    "print(mean(acuracia)*100)"
   ]
  },
  {
   "cell_type": "markdown",
   "id": "4b667056",
   "metadata": {},
   "source": [
    "## Divisão treino/teste"
   ]
  },
  {
   "cell_type": "code",
   "execution_count": null,
   "id": "e9cfe7bc",
   "metadata": {
    "scrolled": true
   },
   "outputs": [],
   "source": [
    "melhor_divisao(LinearSVC(random_state=0))"
   ]
  },
  {
   "cell_type": "code",
   "execution_count": null,
   "id": "31840bd2",
   "metadata": {
    "scrolled": false
   },
   "outputs": [],
   "source": [
    "melhor_divisao(MultinomialNB())"
   ]
  },
  {
   "cell_type": "code",
   "execution_count": null,
   "id": "8e783dff",
   "metadata": {
    "scrolled": true
   },
   "outputs": [],
   "source": [
    "melhor_divisao(LogisticRegression(random_state=0, solver='liblinear'))"
   ]
  },
  {
   "cell_type": "code",
   "execution_count": null,
   "id": "d44d65cb",
   "metadata": {
    "scrolled": true
   },
   "outputs": [],
   "source": [
    "%%time\n",
    "X_train, X_test, y_train, y_test = train_test_split(vetor_caracteristicas, rotulos, train_size=0.90, random_state=0, stratify=rotulos)\n",
    "modelo = LinearSVC(random_state=0, multi_class='ovr')\n",
    "modelo.fit(X_train, y_train)\n",
    "y_pred = modelo.predict(X_test)\n",
    "print(accuracy_score(y_test, y_pred)*100)"
   ]
  },
  {
   "cell_type": "markdown",
   "id": "b3f44f1d",
   "metadata": {},
   "source": [
    "## Matriz de confusão"
   ]
  },
  {
   "cell_type": "code",
   "execution_count": null,
   "id": "dbed7e92",
   "metadata": {},
   "outputs": [],
   "source": [
    "plt.rcParams['font.family'] = 'serif'\n",
    "plt.rcParams['font.serif'] = 'Times New Roman'\n",
    "plt.rcParams['font.size'] = 16"
   ]
  },
  {
   "cell_type": "code",
   "execution_count": 32,
   "id": "b095fcfc",
   "metadata": {
    "scrolled": true
   },
   "outputs": [
    {
     "data": {
      "image/png": "[encoded data removed]",
      "text/plain": [
       "<Figure size 432x432 with 2 Axes>"
      ]
     },
     "metadata": {
      "needs_background": "light"
     },
     "output_type": "display_data"
    },
    {
     "name": "stdout",
     "output_type": "stream",
     "text": [
      "              precision    recall  f1-score   support\n",
      "\n",
      "          CS       0.69      0.90      0.78        20\n",
      "          CH       0.81      0.65      0.72        20\n",
      "          CA       0.86      0.95      0.90        20\n",
      "         CSA       0.70      0.70      0.70        20\n",
      "           E       0.73      0.80      0.76        20\n",
      "         LLA       0.90      0.90      0.90        20\n",
      "          CB       0.89      0.85      0.87        20\n",
      "         CET       0.82      0.90      0.86        20\n",
      "           M       0.92      0.60      0.73        20\n",
      "\n",
      "    accuracy                           0.81       180\n",
      "   macro avg       0.81      0.81      0.80       180\n",
      "weighted avg       0.81      0.81      0.80       180\n",
      "\n"
     ]
    }
   ],
   "source": [
    "#teste\n",
    "#modelo = LinearSVC(random_state=0)\n",
    "modelo = MultinomialNB()\n",
    "#modelo = LogisticRegression(random_state=0, solver='liblinear')\n",
    "\n",
    "X_train, X_test, y_train, y_test = train_test_split(vetor_caracteristicas, rotulos, train_size=0.90, stratify=rotulos, random_state=0)\n",
    "modelo.fit(X_train, y_train)\n",
    "y_pred = modelo.predict(X_test)\n",
    "\n",
    "#criação de dicionário (categoria,id)\n",
    "category_id_df = df[['Categoria', 'ID_Categoria']].drop_duplicates().sort_values('ID_Categoria')\n",
    "#criação de dicionário (id, categoria)\n",
    "id_to_category = dict(category_id_df[['ID_Categoria', 'Categoria']].values)\n",
    "\n",
    "#criação das siglas\n",
    "category_id_df.loc[category_id_df['Categoria'] == 'Ciências Agrárias', 'Categoria'] = 'CA'\n",
    "category_id_df.loc[category_id_df['Categoria'] == 'Ciências Biológicas', 'Categoria'] = 'CB'\n",
    "category_id_df.loc[category_id_df['Categoria'] == 'Ciências Exatas e da Terra', 'Categoria'] = 'CET'\n",
    "category_id_df.loc[category_id_df['Categoria'] == 'Ciências Humanas', 'Categoria'] = 'CH'\n",
    "category_id_df.loc[category_id_df['Categoria'] == 'Ciências Sociais Aplicadas', 'Categoria'] = 'CSA'\n",
    "category_id_df.loc[category_id_df['Categoria'] == 'Ciências da Saúde', 'Categoria'] = 'CS'\n",
    "category_id_df.loc[category_id_df['Categoria'] == 'Engenharias', 'Categoria'] = 'E'\n",
    "category_id_df.loc[category_id_df['Categoria'] == 'Lingüística, Letras e Artes', 'Categoria'] = 'LLA'\n",
    "category_id_df.loc[category_id_df['Categoria'] == 'Multidisciplinar', 'Categoria'] = 'M'\n",
    "\n",
    "#matriz de confusão\n",
    "conf_mat = confusion_matrix(y_test, y_pred)\n",
    "conf_mat.diagonal()/conf_mat.sum(axis=0)\n",
    "fig, ax = plt.subplots(figsize=(6,6))\n",
    "sns.heatmap(conf_mat, annot=True, fmt='d',\n",
    "xticklabels=category_id_df.Categoria.values, yticklabels=category_id_df.Categoria.values)\n",
    "plt.ylabel('Real')\n",
    "plt.xlabel('Previsto')\n",
    "plt.show()\n",
    "\n",
    "#imprime as métricas\n",
    "print(metrics.classification_report(y_test, y_pred, target_names=df['Categoria'].unique(), digits=2))"
   ]
  },
  {
   "cell_type": "markdown",
   "id": "39adb458",
   "metadata": {},
   "source": [
    "## Curvas-ROC"
   ]
  },
  {
   "cell_type": "code",
   "execution_count": null,
   "id": "fb8bb948",
   "metadata": {},
   "outputs": [],
   "source": [
    "plt.rcParams['font.family'] = 'serif'\n",
    "plt.rcParams['font.serif'] = 'Times New Roman'\n",
    "plt.rcParams['font.size'] = 40"
   ]
  },
  {
   "cell_type": "code",
   "execution_count": null,
   "id": "f6f397ca",
   "metadata": {
    "scrolled": false
   },
   "outputs": [],
   "source": [
    "from sklearn.svm import SVC\n",
    "\n",
    "#AUC_SVM = gera_curvas_roc(LinearSVC(random_state=0, multi_class='ovr'), 90)\n",
    "#AUC_NB = gera_curvas_roc(MultinomialNB(), 90)\n",
    "AUC_LR = gera_curvas_roc(LogisticRegression(random_state=0, solver='liblinear', multi_class='ovr'), 90)"
   ]
  },
  {
   "cell_type": "code",
   "execution_count": null,
   "id": "f05e277d",
   "metadata": {
    "scrolled": true
   },
   "outputs": [],
   "source": [
    "#print({k: v for k, v in sorted(AUC_SVM.items(), key = lambda item: item[1], reverse=True)})\n",
    "#print({k: v for k, v in sorted(AUC_NB.items(), key = lambda item: item[1], reverse=True)})\n",
    "print({k: v for k, v in sorted(AUC_LR.items(), key = lambda item: item[1], reverse=True)})"
   ]
  },
  {
   "cell_type": "code",
   "execution_count": null,
   "id": "f1ed0217",
   "metadata": {},
   "outputs": [],
   "source": [
    "format(0.9556250000000001)"
   ]
  },
  {
   "cell_type": "markdown",
   "id": "277ab71a",
   "metadata": {},
   "source": [
    "## Box-Plots"
   ]
  },
  {
   "cell_type": "code",
   "execution_count": null,
   "id": "f2f89473",
   "metadata": {},
   "outputs": [],
   "source": [
    "df_resultados = leitura_e_configuracao_resultados()\n",
    "atributos = ('Título','Resumo','Palavras-chave','Texto')"
   ]
  },
  {
   "cell_type": "code",
   "execution_count": null,
   "id": "b71730dd",
   "metadata": {
    "scrolled": false
   },
   "outputs": [],
   "source": [
    "#ax1,ax2,ax3,ax4 = set_grid('Acurácia')\n",
    "\n",
    "#fig, axs = plt.subplots(2,2, figsize=(25,15))\n",
    "\n",
    "for att in atributos:\n",
    "    fig, ax = plt.subplots(figsize=(6,4))\n",
    "    cria_box_plots(df_resultados, att, 'ACC', ax)\n",
    "\n",
    "#plt.subplot(2,2,1)\n",
    "#cria_box_plots(df_resultados, 'Título', 'ACC', axs[0,0])\n",
    "#plt.subplot(2,2,2)\n",
    "#cria_box_plots(df_resultados, 'Resumo', 'ACC', axs[0,1])\n",
    "#fig.tight_layout(pad=3.0)\n",
    "#plt.subplot(2,2,3)\n",
    "#cria_box_plots(df_resultados, 'Palavras-chave', 'ACC', axs[1,0])\n",
    "#plt.subplot(2,2,4)\n",
    "#cria_box_plots(df_resultados, 'Texto', 'ACC', axs[1,1])"
   ]
  },
  {
   "cell_type": "code",
   "execution_count": null,
   "id": "68ae983b",
   "metadata": {
    "scrolled": false
   },
   "outputs": [],
   "source": [
    "for att in atributos:\n",
    "    fig, ax = plt.subplots(figsize=(6,4), linewidth=20)\n",
    "    cria_box_plots(df_resultados, att, 'COMP', ax)"
   ]
  },
  {
   "cell_type": "code",
   "execution_count": null,
   "id": "c107b4e8",
   "metadata": {
    "scrolled": true
   },
   "outputs": [],
   "source": [
    "for att in atributos:\n",
    "    fig, ax = plt.subplots(figsize=(6,4), linewidth=20)\n",
    "    cria_box_plots(df_resultados, att, 'CONS', ax)"
   ]
  },
  {
   "cell_type": "markdown",
   "id": "16b7279c",
   "metadata": {},
   "source": [
    "## Gráfico de Linha"
   ]
  },
  {
   "cell_type": "code",
   "execution_count": null,
   "id": "b0b44de4",
   "metadata": {},
   "outputs": [],
   "source": [
    "def getAcuracia(df, grupo, classificador, atributo, dimensao):\n",
    "\n",
    "    df_ruido = pd.DataFrame(df[(df['Grupo'] == grupo) \n",
    "                                                        & (df['Classificador'] == classificador)\n",
    "                                                        & (df['Atributo'] == atributo) \n",
    "                                                        & (df['Método'] == dimensao)])\n",
    "    return mean(df_ruido['Acurácia'])"
   ]
  },
  {
   "cell_type": "code",
   "execution_count": null,
   "id": "19a44b86",
   "metadata": {},
   "outputs": [],
   "source": [
    "def grafico_linha(df, atributo, dimensao, ax):\n",
    "\n",
    "    grupos = ('C','I','II','III','IV')\n",
    "    classificadores = ('MVS','NBM','RL')\n",
    "    atributos = ('Título','Resumo','Palavras-chave','Texto')\n",
    "    dimensoes = ('ACC','COMP','CONS')\n",
    "    \n",
    "    cores = ('red','green','blue')\n",
    "\n",
    "    i=0\n",
    "    for classificador in classificadores:\n",
    "        acuracias = []\n",
    "        for g in grupos:\n",
    "            acuracias.append(getAcuracia(df, g, classificador, atributo, dimensao))\n",
    "        ax.plot(grupos,acuracias, label=classificador, marker='o', color=cores[i])\n",
    "        ax.legend(fontsize='small', loc='lower right', fancybox=True, shadow=True)\n",
    "        i+=1\n",
    "            \n",
    "    #configurações dos eixos\n",
    "    ax.set_yticks([15,30,45,60])\n",
    "    ax.set_xlim(-1,5)\n",
    "    ax.set_ylim(14,66)\n",
    "    \n",
    "    #adição do titulo ao subplot indicando o atributo correspondente\n",
    "    ax.set_title('{}'.format(atributo), y=1.1, pad=-10, loc='center', position=(0.5, 0.5))\n",
    "\n"
   ]
  },
  {
   "cell_type": "code",
   "execution_count": null,
   "id": "c4431116",
   "metadata": {
    "scrolled": true
   },
   "outputs": [],
   "source": [
    "ax1,ax2,ax3,ax4 = set_grid('Acurácia')\n",
    "\n",
    "grafico_linha(df_resultados, 'Título','ACC', ax1)\n",
    "grafico_linha(df_resultados, 'Resumo','ACC', ax2)\n",
    "grafico_linha(df_resultados, 'Palavras-chave','ACC', ax3)\n",
    "grafico_linha(df_resultados, 'Texto','ACC', ax4)"
   ]
  },
  {
   "cell_type": "code",
   "execution_count": null,
   "id": "69041ef3",
   "metadata": {},
   "outputs": [],
   "source": [
    "ax1,ax2,ax3,ax4 = set_grid('Completude')\n",
    "\n",
    "grafico_linha(df_resultados, 'Título','COMP', ax1)\n",
    "grafico_linha(df_resultados, 'Resumo','COMP', ax2)\n",
    "grafico_linha(df_resultados, 'Palavras-chave','COMP', ax3)\n",
    "grafico_linha(df_resultados, 'Texto','COMP', ax4)"
   ]
  },
  {
   "cell_type": "markdown",
   "id": "9cc7e11b",
   "metadata": {},
   "source": [
    "## Two-Way ANOVA"
   ]
  },
  {
   "cell_type": "code",
   "execution_count": null,
   "id": "403765ff",
   "metadata": {},
   "outputs": [],
   "source": [
    "import pingouin as pg"
   ]
  },
  {
   "cell_type": "code",
   "execution_count": null,
   "id": "c4472f26",
   "metadata": {},
   "outputs": [],
   "source": [
    "df_resultados = leitura_e_configuracao_resultados()"
   ]
  },
  {
   "cell_type": "code",
   "execution_count": null,
   "id": "a0afa9d6",
   "metadata": {},
   "outputs": [],
   "source": [
    "def two_way_anova(df, metodo, atributo):\n",
    "    \n",
    "    df_anova = pd.DataFrame(df[(df['Atributo'] == atributo) & (df['Método'] == metodo)])\n",
    "    \n",
    "    aov = pg.anova(dv='Acurácia', between=['Classificador', 'Grupo'], data=df_anova,\n",
    "             detailed=True)\n",
    "    \n",
    "    return df_anova, aov"
   ]
  },
  {
   "cell_type": "code",
   "execution_count": null,
   "id": "144bc139",
   "metadata": {},
   "outputs": [],
   "source": [
    "def media_anova(df):\n",
    "    \n",
    "    grupos = ['C','I','II','III','IV']\n",
    "    lista_media_grupos = []\n",
    "    \n",
    "    for grupo in grupos:\n",
    "        df_grupo = pd.DataFrame(df[(df['Grupo'] == grupo)])\n",
    "        lista_media_grupos.append(df_grupo['Acurácia'].mean())\n",
    "    \n",
    "    return lista_media_grupos"
   ]
  },
  {
   "cell_type": "code",
   "execution_count": null,
   "id": "dbf43a5a",
   "metadata": {
    "scrolled": false
   },
   "outputs": [],
   "source": [
    "atributos = ['Título', 'Resumo','Palavras-chave','Texto']\n",
    "metodos = ['ACC', 'COMP', 'CONS']\n",
    "\n",
    "for metodo in metodos:\n",
    "    print('\\n{}\\n'.format(metodo))\n",
    "    for atributo in atributos:\n",
    "        \n",
    "        df_anova, anova = two_way_anova(df_resultados,metodo,atributo)\n",
    "        lista_medias = media_anova(df_anova)\n",
    "        \n",
    "        total = np.array([['Total',sum(anova['SS'].values), sum(anova['DF'].values)]])\n",
    "        total_anova = pd.DataFrame(data=total, columns=['Source','SS', 'DF'])\n",
    "        anova = anova.append(total_anova)\n",
    "        \n",
    "        display('{}'.format(atributo), anova)\n",
    "        print(\"Médias: {}\".format(lista_medias))\n",
    "        \n"
   ]
  },
  {
   "cell_type": "markdown",
   "id": "a1d8934c",
   "metadata": {},
   "source": [
    "# Similaridade entre as áreas do conhecimento"
   ]
  },
  {
   "cell_type": "code",
   "execution_count": 25,
   "id": "d652afa4",
   "metadata": {},
   "outputs": [],
   "source": [
    "df.loc[df['Categoria'] == 'Ciências Agrárias', 'Categoria'] = 'CA'\n",
    "df.loc[df['Categoria'] == 'Ciências Biológicas', 'Categoria'] = 'CB'\n",
    "df.loc[df['Categoria'] == 'Ciências Exatas e da Terra', 'Categoria'] = 'CET'\n",
    "df.loc[df['Categoria'] == 'Ciências Humanas', 'Categoria'] = 'CH'\n",
    "df.loc[df['Categoria'] == 'Ciências Sociais Aplicadas', 'Categoria'] = 'CSA'\n",
    "df.loc[df['Categoria'] == 'Ciências da Saúde', 'Categoria'] = 'CS'\n",
    "df.loc[df['Categoria'] == 'Engenharias', 'Categoria'] = 'E'\n",
    "df.loc[df['Categoria'] == 'Lingüística, Letras e Artes', 'Categoria'] = 'LLA'\n",
    "df.loc[df['Categoria'] == 'Multidisciplinar', 'Categoria'] = 'M'"
   ]
  },
  {
   "cell_type": "markdown",
   "id": "98319070",
   "metadata": {},
   "source": [
    "## PCA"
   ]
  },
  {
   "cell_type": "code",
   "execution_count": 39,
   "id": "f844f3a2",
   "metadata": {
    "scrolled": true
   },
   "outputs": [],
   "source": [
    "pca = PCA(n_components=2, random_state=0)"
   ]
  },
  {
   "cell_type": "code",
   "execution_count": 34,
   "id": "c9777c3c",
   "metadata": {},
   "outputs": [],
   "source": [
    "#pcaCalc = pca.fit_transform(X_test.toarray())\n",
    "pcaCalc = pca.fit_transform(vetor_caracteristicas.toarray())"
   ]
  },
  {
   "cell_type": "code",
   "execution_count": 35,
   "id": "65e25802",
   "metadata": {},
   "outputs": [],
   "source": [
    "dfPrincipal = pd.DataFrame(data=pcaCalc, columns=['PCA1','PCA2'])"
   ]
  },
  {
   "cell_type": "code",
   "execution_count": 36,
   "id": "98585792",
   "metadata": {},
   "outputs": [],
   "source": [
    "#dfFinal = pd.concat((dfPrincipal, test_df['Categoria']), axis=1)\n",
    "dfFinal = pd.concat((dfPrincipal, df['Categoria']), axis=1)"
   ]
  },
  {
   "cell_type": "code",
   "execution_count": 37,
   "id": "94a1a566",
   "metadata": {},
   "outputs": [],
   "source": [
    "plt.rcParams['font.family'] = 'serif'\n",
    "plt.rcParams['font.serif'] = 'Times New Roman'\n",
    "plt.rcParams['font.size'] = 22"
   ]
  },
  {
   "cell_type": "code",
   "execution_count": null,
   "id": "0489fe2f",
   "metadata": {},
   "outputs": [],
   "source": [
    "dfFinal.loc[dfFinal['PCA1'] < 0.1]"
   ]
  },
  {
   "cell_type": "code",
   "execution_count": null,
   "id": "6255c0d7",
   "metadata": {},
   "outputs": [],
   "source": [
    "dfFinal.loc[dfFinal['PCA2'] < 0.1]"
   ]
  },
  {
   "cell_type": "code",
   "execution_count": null,
   "id": "59635611",
   "metadata": {},
   "outputs": [],
   "source": [
    "dfFinal.loc[dfFinal['PCA1'] > 0.7]"
   ]
  },
  {
   "cell_type": "code",
   "execution_count": 38,
   "id": "295269d5",
   "metadata": {
    "scrolled": true
   },
   "outputs": [
    {
     "data": {
      "image/png": "[encoded data removed]",
      "text/plain": [
       "<Figure size 1080x720 with 1 Axes>"
      ]
     },
     "metadata": {
      "needs_background": "light"
     },
     "output_type": "display_data"
    }
   ],
   "source": [
    "areas = ['CA', 'CB', 'CET', 'CH', 'CSA', 'CS', 'E', 'LLA', 'M']\n",
    "cores_areas = ['#e41a1c', '#377eb8', '#4daf4a', '#984ea3', '#ff7f00', '#ffff33', '#a65628', '#f781bf', '#999999']\n",
    "#cores_areas = ['#e41a1c', '#377eb8', '#999999', '#984ea3', '#ff7f00', '#999999', '#999999', '#999999', '#999999']\n",
    "\n",
    "fig, ax = plt.subplots(1,1,figsize=(15,10))\n",
    "\n",
    "for alvo, cor in zip(areas, cores_areas):\n",
    "    indices = dfFinal['Categoria'] == alvo\n",
    "    ax.scatter(dfFinal.loc[indices, 'PCA1'],\n",
    "                 dfFinal.loc[indices, 'PCA2'],\n",
    "                  c=cor,\n",
    "                  s=900,\n",
    "                  marker='.')\n",
    "        \n",
    "\n",
    "ax.set_xlabel('Componente Principal 1', labelpad=30)\n",
    "ax.set_ylabel('Componente Principal 2', labelpad=30)\n",
    "#ax.set_xlim(-0.1,0.1)\n",
    "#ax.set_ylim(-0.2,0.2)\n",
    "\n",
    "ax.spines['top'].set_visible(False)\n",
    "ax.spines['right'].set_visible(False)\n",
    "\n",
    "ax.spines['left'].set_linewidth(2)\n",
    "ax.spines['bottom'].set_linewidth(2)\n",
    "\n",
    "\n",
    "#ax.set_xlim(-0.01,0.01)\n",
    "#ax.set_ylim(-0.01,0.01)\n",
    "\n",
    "leg = ax.legend(areas, loc='best', ncol=2)\n",
    "leg.get_frame().set_linewidth(3)\n",
    "\n",
    "#plt.axvline(x=0, ymin=0, linewidth=2, color='k')\n",
    "#plt.axhline(y=0, xmin=0, linewidth=2, color='k')"
   ]
  },
  {
   "cell_type": "code",
   "execution_count": null,
   "id": "5b5e3cd8",
   "metadata": {},
   "outputs": [],
   "source": [
    "df.loc[df['ID'] == 20]"
   ]
  },
  {
   "cell_type": "code",
   "execution_count": null,
   "id": "910f6df7",
   "metadata": {
    "scrolled": true
   },
   "outputs": [],
   "source": [
    "areas_similares = ['CA', 'CB','CH', 'CSA']\n",
    "areas_similares_ca_cb = ['CA', 'CB']\n",
    "areas_similares_ch_csa = ['CH','CSA']\n",
    "areas_nao_similares = ['CET', 'CS', 'E', 'LLA', 'M']\n",
    "areas = ['CA', 'CB', 'CET', 'CH', 'CSA', 'CS', 'E', 'LLA', 'M']\n",
    "cores_areas = ['#e41a1c', '#377eb8', '#4daf4a', '#984ea3', '#ff7f00', '#ffff33', '#a65628', '#f781bf', '#999999']\n",
    "\n",
    "fig, axs = plt.subplots(2,2,figsize=(20,15))\n",
    "fig.patch.set_facecolor('white')\n",
    "\n",
    "for alvo, cor in zip(areas, cores_areas):\n",
    "    indices = dfFinal['Categoria'] == alvo\n",
    "    if(alvo in areas_similares):\n",
    "        axs[0,0].scatter(dfFinal.loc[indices, 'PCA1'],\n",
    "             dfFinal.loc[indices, 'PCA2'],\n",
    "              c=cor,\n",
    "              s=100,\n",
    "              marker='d')\n",
    "    if(alvo in areas_nao_similares):\n",
    "        axs[0,1].scatter(dfFinal.loc[indices, 'PCA1'],\n",
    "             dfFinal.loc[indices, 'PCA2'],\n",
    "              c=cor,\n",
    "              s=100,\n",
    "              marker='d')\n",
    "    elif(alvo in areas_similares_ca_cb):\n",
    "        axs[1,0].scatter(dfFinal.loc[indices, 'PCA1'],\n",
    "             dfFinal.loc[indices, 'PCA2'],\n",
    "              c=cor,\n",
    "              s=100,\n",
    "              marker='d')\n",
    "    elif(alvo in areas_similares_ch_csa):\n",
    "        axs[1,1].scatter(dfFinal.loc[indices, 'PCA1'],\n",
    "             dfFinal.loc[indices, 'PCA2'],\n",
    "              c=cor,\n",
    "              s=100,\n",
    "              marker='d')\n",
    "\n",
    "axs[0,0].set_title('Áreas similares', fontsize=20)\n",
    "axs[0,1].set_title('Áreas não similares', fontsize=20)\n",
    "axs[1,0].set_title('Relação entre as áreas CA e CB',fontsize=20)\n",
    "axs[1,1].set_title('Relação entre as áreas CH e CSA',fontsize=20)\n",
    "\n",
    "axs[0,0].legend(areas)\n",
    "axs[0,1].legend(areas_nao_similares)\n",
    "axs[1,0].legend(areas_similares_ca_cb)\n",
    "axs[1,1].legend(areas_similares_ch_csa)\n",
    " \n",
    "for ax in axs.reshape(-1):\n",
    "    ax.set_xlim(-0.02,0.02)\n",
    "    ax.set_ylim(-0.3,0.3)\n",
    "    ax.spines['right'].set_visible(False)\n",
    "    ax.spines['top'].set_visible(False)\n",
    "    ax.spines['left'].set_linewidth(1)\n",
    "    ax.spines['bottom'].set_linewidth(1)"
   ]
  },
  {
   "cell_type": "code",
   "execution_count": null,
   "id": "767bfcdc",
   "metadata": {
    "scrolled": false
   },
   "outputs": [],
   "source": [
    "dfFinal.loc[dfFinal['PCA1'] > 0.2]"
   ]
  },
  {
   "cell_type": "markdown",
   "id": "dc908cc7",
   "metadata": {},
   "source": [
    "## Similaridade de cossenos"
   ]
  },
  {
   "cell_type": "code",
   "execution_count": null,
   "id": "ab9e800e",
   "metadata": {},
   "outputs": [],
   "source": [
    "cos_ca = cosine_similarity(vetor_caracteristicas[dfs['df_ca'].ID.values],\n",
    "                          vetor_caracteristicas[dfs['df_ca'].ID.values])"
   ]
  },
  {
   "cell_type": "code",
   "execution_count": null,
   "id": "cf0f8eab",
   "metadata": {},
   "outputs": [],
   "source": [
    "#plot\n",
    "fig = plt.figure(figsize=(7,5))\n",
    "sns.heatmap(cos_ca, cmap='GnBu')"
   ]
  },
  {
   "cell_type": "code",
   "execution_count": null,
   "id": "bf5d5532",
   "metadata": {},
   "outputs": [],
   "source": [
    "cos_ca.sum()/(200*200)"
   ]
  },
  {
   "cell_type": "code",
   "execution_count": null,
   "id": "8f367819",
   "metadata": {},
   "outputs": [],
   "source": [
    "cos_ca_cb = cosine_similarity(vetor_caracteristicas[dfs['df_ca'].ID.values],\n",
    "                            vetor_caracteristicas[dfs['df_csa'].ID.values])"
   ]
  },
  {
   "cell_type": "code",
   "execution_count": null,
   "id": "77397312",
   "metadata": {
    "scrolled": true
   },
   "outputs": [],
   "source": [
    "#plot\n",
    "fig = plt.figure(figsize=(7,5))\n",
    "sns.heatmap(cos_ca_cb, cmap='GnBu')"
   ]
  },
  {
   "cell_type": "code",
   "execution_count": null,
   "id": "628d6dd3",
   "metadata": {},
   "outputs": [],
   "source": [
    "cos_ca = cosine_similarity(vetor_caracteristicas[dfs['df_ca'].ID.values])"
   ]
  },
  {
   "cell_type": "code",
   "execution_count": null,
   "id": "f00dd3ca",
   "metadata": {},
   "outputs": [],
   "source": [
    "cont = 0\n",
    "soma = 0\n",
    "\n",
    "for i in range(cos_ca.shape[0]):\n",
    "    for j in range(cos_ca.shape[1]):\n",
    "        soma += cos_ca[i][j]\n",
    "        cont+=1\n",
    "\n",
    "print(soma)\n",
    "print(cont)\n",
    "print(soma/cont)"
   ]
  },
  {
   "cell_type": "code",
   "execution_count": null,
   "id": "d399ceb9",
   "metadata": {},
   "outputs": [],
   "source": [
    "cos_ca"
   ]
  },
  {
   "cell_type": "code",
   "execution_count": null,
   "id": "3c7ef431",
   "metadata": {},
   "outputs": [],
   "source": [
    "cos_ca.sum() / 400"
   ]
  },
  {
   "cell_type": "code",
   "execution_count": null,
   "id": "fbcbf129",
   "metadata": {
    "scrolled": true
   },
   "outputs": [],
   "source": [
    "sns.heatmap(cos_ca)"
   ]
  },
  {
   "cell_type": "code",
   "execution_count": null,
   "id": "35b25c0f",
   "metadata": {
    "scrolled": true
   },
   "outputs": [],
   "source": [
    "areas = ['CA', 'CB', 'CET', 'CH', 'CSA', 'CS', 'E', 'LLA', 'M']\n",
    "\n",
    "dfs = {} # dicionário contendo o dataframe de cada área \n",
    "\n",
    "nomes_dfs = ('df_ca', 'df_cb', 'df_cet', 'df_ch', 'df_csa', 'df_cs', 'df_e', 'df_lla', 'df_m') # nomes que serão\n",
    "                                                                                               # dados aos \n",
    "                                                                                               # dataframes\n",
    "\n",
    "for ndf, area in zip(nomes_dfs, areas): # itera sobre o nome dos dataframes e das áreas\n",
    "    df_area = df.loc[df['Categoria'] == area] # dataframe da área é criado a partir do dataframe original\n",
    "    dfs[ndf] = df_area.loc[df_area['ID']] # dataframe da área contém os ids correspondentes aos textos\n",
    "                                          # daquela área"
   ]
  },
  {
   "cell_type": "code",
   "execution_count": null,
   "id": "0d402832",
   "metadata": {},
   "outputs": [],
   "source": [
    "mat_areas = np.zeros((9,9)) # instaciação matriz 9x9\n",
    "\n",
    "i=-1\n",
    "for df in dfs.keys(): # itera sobre o dataframe de cada área do conhecimento contendo os IDs correspondentes\n",
    "                      # ao dataframe original\n",
    "    j=0\n",
    "    i+=1 # próxima linha\n",
    "    \n",
    "    for df2 in dfs.keys(): # itera sobre o dataframe das outras áreas enquanto uma é fixada\n",
    "        mat_areas[i][j] = cosine_similarity(vetor_caracteristicas[dfs[df].ID.values],\n",
    "                     vetor_caracteristicas[dfs[df2].ID.values]).mean() # similaridade de cossenos par a par dos\n",
    "                                                                 # vetores de características onde os índices são\n",
    "                                                                 # os IDs presentes no dataframe das duas áreas \n",
    "        j+=1 # próxima coluna"
   ]
  },
  {
   "cell_type": "code",
   "execution_count": null,
   "id": "27b13794",
   "metadata": {},
   "outputs": [],
   "source": [
    "plt.rcParams['font.family'] = 'serif'\n",
    "plt.rcParams['font.serif'] = 'Times New Roman'\n",
    "plt.rcParams['font.size'] = 16"
   ]
  },
  {
   "cell_type": "code",
   "execution_count": null,
   "id": "b50509bb",
   "metadata": {
    "scrolled": true
   },
   "outputs": [],
   "source": [
    "#plot\n",
    "fig = plt.figure(figsize=(10,8))\n",
    "sns.heatmap(mat_areas,\n",
    "            fmt='.4f',\n",
    "            annot=True,\n",
    "            xticklabels=areas, \n",
    "            yticklabels=areas, cmap='inferno',\n",
    "           robust=True)"
   ]
  },
  {
   "cell_type": "code",
   "execution_count": null,
   "id": "537972ed",
   "metadata": {},
   "outputs": [],
   "source": [
    "mat_areas = np.zeros((9,9)) # instaciação matriz 9x9\n",
    "\n",
    "i=-1\n",
    "for df in dfs.keys(): # itera sobre o dataframe de cada área do conhecimento contendo os IDs correspondentes\n",
    "                      # ao dataframe original\n",
    "    j=0\n",
    "    i+=1 # próxima linha\n",
    "    \n",
    "    for df2 in dfs.keys(): # itera sobre o dataframe das outras áreas enquanto uma é fixada\n",
    "        mat_areas[i][j] = cosine_similarity(vetor_caracteristicas[dfs[df].ID.values],\n",
    "                     vetor_caracteristicas[dfs[df2].ID.values]).trace() / (200) # similaridade de cossenos par a par dos\n",
    "                                                                 # vetores de características onde os índices são\n",
    "                                                                 # os IDs presentes no dataframe das duas áreas \n",
    "        j+=1 # próxima coluna"
   ]
  },
  {
   "cell_type": "code",
   "execution_count": null,
   "id": "c542cec4",
   "metadata": {
    "scrolled": false
   },
   "outputs": [],
   "source": [
    "#plot\n",
    "fig = plt.figure(figsize=(7,5))\n",
    "sns.heatmap(mat_areas, \n",
    "            annot=True,\n",
    "            fmt = '.3f',\n",
    "            xticklabels=areas, \n",
    "            yticklabels=areas, cmap='GnBu')"
   ]
  },
  {
   "cell_type": "code",
   "execution_count": null,
   "id": "e5950b3b",
   "metadata": {},
   "outputs": [],
   "source": [
    "from sklearn.metrics.pairwise import cosine_similarity\n",
    "\n",
    "cos = cosine_similarity(vetor_tfidf[dfs['df_ca'].loc[:,\"ID\"]], vetor_tfidf[dfs['df_ca'].loc[:,\"ID\"]])"
   ]
  },
  {
   "cell_type": "code",
   "execution_count": null,
   "id": "4633e8f1",
   "metadata": {},
   "outputs": [],
   "source": [
    "df.loc[:,'ID']"
   ]
  },
  {
   "cell_type": "code",
   "execution_count": null,
   "id": "113da828",
   "metadata": {},
   "outputs": [],
   "source": [
    "df.loc[:,'ID'].values"
   ]
  },
  {
   "cell_type": "code",
   "execution_count": null,
   "id": "bc9d05e4",
   "metadata": {},
   "outputs": [],
   "source": [
    "vet_cos.shape"
   ]
  },
  {
   "cell_type": "code",
   "execution_count": null,
   "id": "84d2af15",
   "metadata": {},
   "outputs": [],
   "source": [
    "sns.heatmap(vet_cos)"
   ]
  },
  {
   "cell_type": "code",
   "execution_count": null,
   "id": "f7d62c23",
   "metadata": {},
   "outputs": [],
   "source": [
    "x = vet_cos\n",
    "y = vet_cos\n",
    "\n",
    "fig = plt.figure()\n",
    "ax = plt.axes()\n",
    "\n",
    "plt.scatter(x,y)"
   ]
  },
  {
   "cell_type": "code",
   "execution_count": null,
   "id": "78e08c2f",
   "metadata": {},
   "outputs": [],
   "source": []
  }
 ],
 "metadata": {
  "kernelspec": {
   "display_name": "Python 3",
   "language": "python",
   "name": "python3"
  },
  "language_info": {
   "codemirror_mode": {
    "name": "ipython",
    "version": 3
   },
   "file_extension": ".py",
   "mimetype": "text/x-python",
   "name": "python",
   "nbconvert_exporter": "python",
   "pygments_lexer": "ipython3",
   "version": "3.8.8"
  }
 },
 "nbformat": 4,
 "nbformat_minor": 5
}
